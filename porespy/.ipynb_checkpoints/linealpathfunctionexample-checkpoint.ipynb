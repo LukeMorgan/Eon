{
 "cells": [
  {
   "cell_type": "markdown",
   "id": "39a1d726-676a-43f1-9e43-f4ea46458ac0",
   "metadata": {},
   "source": [
    "## PORESPY EXAMPLE: The Lineal Path Function\n",
    "\n",
    "In the original version of the lineal path function described by Torquanto, he proposes to insert lines of arbitrary length and oreintation into the image, then count the fraction of these lines that lie wholly within a single phase. If the medium is isotropic, then random orientations are not needed. On the other hand, if the material is anisotropic, then orientation does matter. Flipping this around, we can detect anisotropy in an image by measuring the lineal-path function along a single direction, then repeating for orthogonal directions. Anisotropy is thus revealed by the disparity in the lineal-path results. \n",
    "\n",
    "Porespy uses the latter approach, computing the lineal-path function along a single axis. PoresPy includes the distance_transform_lin function, which can compute a version of the distance transform that is limited to the linear distance along the specified axis. Applying this function to an image creates the input data for the lineal path function, which then computes "
   ]
  },
  {
   "cell_type": "code",
   "execution_count": null,
   "id": "554d47b4-bcc6-4cbd-81e5-fe97334286a8",
   "metadata": {},
   "outputs": [],
   "source": []
  }
 ],
 "metadata": {
  "kernelspec": {
   "display_name": "Python 3 (ipykernel)",
   "language": "python",
   "name": "python3"
  },
  "language_info": {
   "codemirror_mode": {
    "name": "ipython",
    "version": 3
   },
   "file_extension": ".py",
   "mimetype": "text/x-python",
   "name": "python",
   "nbconvert_exporter": "python",
   "pygments_lexer": "ipython3",
   "version": "3.9.7"
  }
 },
 "nbformat": 4,
 "nbformat_minor": 5
}
