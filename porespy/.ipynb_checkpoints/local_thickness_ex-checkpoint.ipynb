{
 "cells": [
  {
   "cell_type": "markdown",
   "id": "a37e4f35-c9be-417c-a27a-1e326d08c98b",
   "metadata": {},
   "source": [
    "## PORESPY EXAMPLE: Local Thickness\n",
    "\n",
    "This example explains how to use the local_thickness filter to get information about the pore size distribution from an image. The local thickness is probably the closest you can get to an actual pore size distribution. Unlike porosimetry expirments or simulations, it is unaffected by artifacts such as edge effects and access limitations. The implementation in PoreSpy is slightly different than the common approach done in ImageJ, as will be explained later."
   ]
  },
  {
   "cell_type": "code",
   "execution_count": 1,
   "id": "d3593e75-a6a5-497e-b0b0-685ee5a8334f",
   "metadata": {},
   "outputs": [],
   "source": [
    "import numpy as np\n",
    "import porespy as ps\n",
    "import scipy.ndimage as spim\n",
    "import matplotlib.pyplot as plt\n",
    "ps.visualization.set_mpl_style()"
   ]
  },
  {
   "cell_type": "markdown",
   "id": "06d802e6-9f57-46f6-a6b0-b44ed93961bf",
   "metadata": {},
   "source": [
    "### Generate Test Image\n",
    "\n",
    "Start by generating an image. We'll use the RSA generator for fun:"
   ]
  },
  {
   "cell_type": "code",
   "execution_count": 9,
   "id": "af73b0d7-ff53-42ea-9a11-162e53d84de0",
   "metadata": {},
   "outputs": [
    {
     "data": {
      "image/svg+xml": [
       "<?xml version=\"1.0\" encoding=\"utf-8\" standalone=\"no\"?>\r\n",
       "<!DOCTYPE svg PUBLIC \"-//W3C//DTD SVG 1.1//EN\"\r\n",
       "  \"http://www.w3.org/Graphics/SVG/1.1/DTD/svg11.dtd\">\r\n",
       "<svg height=\"276.48pt\" version=\"1.1\" viewBox=\"0 0 276.48 276.48\" width=\"276.48pt\" xmlns=\"http://www.w3.org/2000/svg\" xmlns:xlink=\"http://www.w3.org/1999/xlink\">\r\n",
       " <metadata>\r\n",
       "  <rdf:RDF xmlns:cc=\"http://creativecommons.org/ns#\" xmlns:dc=\"http://purl.org/dc/elements/1.1/\" xmlns:rdf=\"http://www.w3.org/1999/02/22-rdf-syntax-ns#\">\r\n",
       "   <cc:Work>\r\n",
       "    <dc:type rdf:resource=\"http://purl.org/dc/dcmitype/StillImage\"/>\r\n",
       "    <dc:date>2022-03-31T14:28:53.260837</dc:date>\r\n",
       "    <dc:format>image/svg+xml</dc:format>\r\n",
       "    <dc:creator>\r\n",
       "     <cc:Agent>\r\n",
       "      <dc:title>Matplotlib v3.4.3, https://matplotlib.org/</dc:title>\r\n",
       "     </cc:Agent>\r\n",
       "    </dc:creator>\r\n",
       "   </cc:Work>\r\n",
       "  </rdf:RDF>\r\n",
       " </metadata>\r\n",
       " <defs>\r\n",
       "  <style type=\"text/css\">*{stroke-linecap:butt;stroke-linejoin:round;}</style>\r\n",
       " </defs>\r\n",
       " <g id=\"figure_1\">\r\n",
       "  <g id=\"patch_1\">\r\n",
       "   <path d=\"M 0 276.48 \r\n",
       "L 276.48 276.48 \r\n",
       "L 276.48 0 \r\n",
       "L 0 0 \r\n",
       "z\r\n",
       "\" style=\"fill:none;\"/>\r\n",
       "  </g>\r\n",
       "  <g id=\"axes_1\">\r\n",
       "   <g clip-path=\"url(#paad8a3d8f5)\">\r\n",
       "    <image height=\"300\" id=\"imageae0ca06618\" style=\"image-rendering:crisp-edges;image-rendering:pixelated\" transform=\"matrix(0.876667 0 0 -0.876667 7.2 269.28)\" width=\"300\" xlink:href=\"data:image/png;base64,\r\n",
       "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\"/>\r\n",
       "   </g>\r\n",
       "  </g>\r\n",
       " </g>\r\n",
       " <defs>\r\n",
       "  <clipPath id=\"paad8a3d8f5\">\r\n",
       "   <rect height=\"262.08\" width=\"262.08\" x=\"7.2\" y=\"7.2\"/>\r\n",
       "  </clipPath>\r\n",
       " </defs>\r\n",
       "</svg>\r\n"
      ],
      "text/plain": [
       "<Figure size 432x288 with 1 Axes>"
      ]
     },
     "metadata": {
      "needs_background": "light"
     },
     "output_type": "display_data"
    }
   ],
   "source": [
    "im = np.zeros([300, 300])\n",
    "im = ps.generators.RSA(im, r=20, volume_fraction=0.2)\n",
    "im = ps.generators.RSA(im, r=15, volume_fraction=0.4)\n",
    "im = ps.generators.RSA(im, r=10, volume_fraction=0.6)\n",
    "im = im == 0\n",
    "fig, ax = plt.subplots()\n",
    "ax.imshow(im, interpolation='none', origin='lower')\n",
    "ax.axis(False);"
   ]
  },
  {
   "cell_type": "markdown",
   "id": "dbdb5aa5-c3f5-4508-b52b-250754708abe",
   "metadata": {},
   "source": [
    "### Apply Local Thickness Filter\n",
    "\n",
    "The local thickness filter is called by simply passing in the image. Like all filters in PoreSpy, it is applied to the foreground, indicated by 1's or True:"
   ]
  },
  {
   "cell_type": "code",
   "execution_count": 13,
   "id": "107880b1-d317-44e3-be2b-66d9250102b9",
   "metadata": {},
   "outputs": [
    {
     "data": {
      "application/vnd.jupyter.widget-view+json": {
       "model_id": "",
       "version_major": 2,
       "version_minor": 0
      },
      "text/plain": [
       "  0%|          | 0/25 [00:00<?, ?it/s]"
      ]
     },
     "metadata": {},
     "output_type": "display_data"
    },
    {
     "data": {
      "image/svg+xml": [
       "<?xml version=\"1.0\" encoding=\"utf-8\" standalone=\"no\"?>\r\n",
       "<!DOCTYPE svg PUBLIC \"-//W3C//DTD SVG 1.1//EN\"\r\n",
       "  \"http://www.w3.org/Graphics/SVG/1.1/DTD/svg11.dtd\">\r\n",
       "<svg height=\"276.48pt\" version=\"1.1\" viewBox=\"0 0 276.48 276.48\" width=\"276.48pt\" xmlns=\"http://www.w3.org/2000/svg\" xmlns:xlink=\"http://www.w3.org/1999/xlink\">\r\n",
       " <metadata>\r\n",
       "  <rdf:RDF xmlns:cc=\"http://creativecommons.org/ns#\" xmlns:dc=\"http://purl.org/dc/elements/1.1/\" xmlns:rdf=\"http://www.w3.org/1999/02/22-rdf-syntax-ns#\">\r\n",
       "   <cc:Work>\r\n",
       "    <dc:type rdf:resource=\"http://purl.org/dc/dcmitype/StillImage\"/>\r\n",
       "    <dc:date>2022-03-31T14:32:18.185113</dc:date>\r\n",
       "    <dc:format>image/svg+xml</dc:format>\r\n",
       "    <dc:creator>\r\n",
       "     <cc:Agent>\r\n",
       "      <dc:title>Matplotlib v3.4.3, https://matplotlib.org/</dc:title>\r\n",
       "     </cc:Agent>\r\n",
       "    </dc:creator>\r\n",
       "   </cc:Work>\r\n",
       "  </rdf:RDF>\r\n",
       " </metadata>\r\n",
       " <defs>\r\n",
       "  <style type=\"text/css\">*{stroke-linecap:butt;stroke-linejoin:round;}</style>\r\n",
       " </defs>\r\n",
       " <g id=\"figure_1\">\r\n",
       "  <g id=\"patch_1\">\r\n",
       "   <path d=\"M 0 276.48 \r\n",
       "L 276.48 276.48 \r\n",
       "L 276.48 0 \r\n",
       "L 0 0 \r\n",
       "z\r\n",
       "\" style=\"fill:none;\"/>\r\n",
       "  </g>\r\n",
       "  <g id=\"axes_1\">\r\n",
       "   <g clip-path=\"url(#pae839155eb)\">\r\n",
       "    <image height=\"300\" id=\"image32a2cb191e\" style=\"image-rendering:crisp-edges;image-rendering:pixelated\" transform=\"matrix(0.876667 0 0 -0.876667 7.2 269.28)\" width=\"300\" xlink:href=\"data:image/png;base64,\r\n",
       "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\"/>\r\n",
       "   </g>\r\n",
       "  </g>\r\n",
       " </g>\r\n",
       " <defs>\r\n",
       "  <clipPath id=\"pae839155eb\">\r\n",
       "   <rect height=\"262.08\" width=\"262.08\" x=\"7.2\" y=\"7.2\"/>\r\n",
       "  </clipPath>\r\n",
       " </defs>\r\n",
       "</svg>\r\n"
      ],
      "text/plain": [
       "<Figure size 432x288 with 1 Axes>"
      ]
     },
     "metadata": {
      "needs_background": "light"
     },
     "output_type": "display_data"
    }
   ],
   "source": [
    "thk = ps.filters.local_thickness(im,mode = 'dt')\n",
    "fig, ax = plt.subplots()\n",
    "ax.imshow(thk, interpolation = 'none', origin = 'lower', cmap = plt.cm.jet)\n",
    "ax.axis(False);"
   ]
  },
  {
   "cell_type": "markdown",
   "id": "c6bfdfbd-8471-4ada-a13e-09f333eec4c1",
   "metadata": {},
   "source": [
    "### Extracting PSD as a Histogram\n",
    "\n",
    "Obtaining pore size distribution information from this image requires obtaining a histogram of voxel values. A function in the metrics module does this for us:"
   ]
  },
  {
   "cell_type": "code",
   "execution_count": 20,
   "id": "1b4653a7-4758-4dbc-a2a8-04a53dcf6a95",
   "metadata": {},
   "outputs": [],
   "source": [
    "psd = ps.metrics.pore_size_distribution(im=thk)"
   ]
  },
  {
   "cell_type": "markdown",
   "id": "3c6b1102-d1ac-4ca9-a869-55e5d5b335f6",
   "metadata": {},
   "source": [
    "This function, like many of the functions in the metrics module, returns several arrays lumped together on a single object. The advantage of this is that each array can be accessed by name as attributes, such as psd.pdf. To see all the available attributes, use print()"
   ]
  },
  {
   "cell_type": "code",
   "execution_count": 23,
   "id": "deb6cde7-93af-48ec-932d-276a2c9578a6",
   "metadata": {},
   "outputs": [
    {
     "name": "stdout",
     "output_type": "stream",
     "text": [
      "――――――――――――――――――――――――――――――――――――――――――――――――――――――――――――――――――――――――――――――\n",
      "Item                      Description\n",
      "――――――――――――――――――――――――――――――――――――――――――――――――――――――――――――――――――――――――――――――\n",
      "LogR                      Array of size (10,)\n",
      "pdf                       Array of size (10,)\n",
      "cdf                       Array of size (10,)\n",
      "satn                      Array of size (10,)\n",
      "bin_centers               Array of size (10,)\n",
      "bin_edges                 Array of size (11,)\n",
      "bin_widths                Array of size (10,)\n",
      "――――――――――――――――――――――――――――――――――――――――――――――――――――――――――――――――――――――――――――――\n"
     ]
    }
   ],
   "source": [
    "print(psd)"
   ]
  },
  {
   "cell_type": "markdown",
   "id": "a437765e-6896-4501-a723-301eb04ce5d2",
   "metadata": {},
   "source": [
    "Next we will plot a pore-size distribution histogram:"
   ]
  },
  {
   "cell_type": "code",
   "execution_count": null,
   "id": "70c1c7d1-9dcd-4e5a-938e-a7522e0ec5d1",
   "metadata": {},
   "outputs": [],
   "source": [
    "fig, ax = plt.subplots(figsize = (5,4))\n",
    "ax.set_xlabel('log(Pore Radius) [voxels]')\n",
    "ax.set_ylaebl('Normalized Volume Fraction')\n",
    "ax.bar(x=psd.LogR, height=psd.pdf, width=psd.bin_widths, edgecolor='k');"
   ]
  }
 ],
 "metadata": {
  "kernelspec": {
   "display_name": "Python 3 (ipykernel)",
   "language": "python",
   "name": "python3"
  },
  "language_info": {
   "codemirror_mode": {
    "name": "ipython",
    "version": 3
   },
   "file_extension": ".py",
   "mimetype": "text/x-python",
   "name": "python",
   "nbconvert_exporter": "python",
   "pygments_lexer": "ipython3",
   "version": "3.9.7"
  }
 },
 "nbformat": 4,
 "nbformat_minor": 5
}
