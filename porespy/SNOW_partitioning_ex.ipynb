{
 "cells": [
  {
   "cell_type": "markdown",
   "id": "5acf649c-8767-4a12-b33f-a9192b8b0657",
   "metadata": {},
   "source": [
    "## PORESPY EXAMPLE: SNOW Partitioning Algorithm/FILTER\n",
    "\n",
    "The SNOW filter is used to partition an image into regions using the SNOW algoirhtm which stands for the subnetowrk of the oversegmented watershed. The steps taken are described in detail in the snow_advanced notebook. We provide a filter function that combines all the steps and it is explored here:\n"
   ]
  },
  {
   "cell_type": "code",
   "execution_count": null,
   "id": "8f3e3f1f-e9a8-41fe-9284-f775e99fd4e5",
   "metadata": {},
   "outputs": [],
   "source": []
  }
 ],
 "metadata": {
  "kernelspec": {
   "display_name": "Python 3 (ipykernel)",
   "language": "python",
   "name": "python3"
  },
  "language_info": {
   "codemirror_mode": {
    "name": "ipython",
    "version": 3
   },
   "file_extension": ".py",
   "mimetype": "text/x-python",
   "name": "python",
   "nbconvert_exporter": "python",
   "pygments_lexer": "ipython3",
   "version": "3.9.7"
  }
 },
 "nbformat": 4,
 "nbformat_minor": 5
}
