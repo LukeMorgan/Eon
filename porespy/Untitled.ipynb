{
 "cells": [
  {
   "cell_type": "code",
   "execution_count": 5,
   "id": "e3426e33-f6ca-4ce5-b3ce-106b1c8781d3",
   "metadata": {},
   "outputs": [],
   "source": [
    "import time\n",
    "import porespy as ps\n",
    "import matplotlib.pyplot as plt\n",
    "import numpy as np\n",
    "ps.visualization.set_mpl_style()\n",
    "np.random.seed(5)\n",
    "ps.settings.tqdm[\"disable\"] = True"
   ]
  },
  {
   "cell_type": "code",
   "execution_count": null,
   "id": "58b1b714-1fc6-432b-b713-ea823663fc06",
   "metadata": {},
   "outputs": [],
   "source": []
  }
 ],
 "metadata": {
  "kernelspec": {
   "display_name": "Python 3 (ipykernel)",
   "language": "python",
   "name": "python3"
  },
  "language_info": {
   "codemirror_mode": {
    "name": "ipython",
    "version": 3
   },
   "file_extension": ".py",
   "mimetype": "text/x-python",
   "name": "python",
   "nbconvert_exporter": "python",
   "pygments_lexer": "ipython3",
   "version": "3.9.7"
  }
 },
 "nbformat": 4,
 "nbformat_minor": 5
}
